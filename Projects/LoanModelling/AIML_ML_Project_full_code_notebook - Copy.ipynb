{
 "cells": [
  {
   "cell_type": "markdown",
   "metadata": {
    "id": "dHp26RRERvXx"
   },
   "source": [
    "## Problem Statement"
   ]
  },
  {
   "cell_type": "markdown",
   "metadata": {
    "id": "m5MpauhvxIh6"
   },
   "source": [
    "### Context\n",
    "\n",
    "AllLife Bank is a US bank that has a growing customer base. The majority of these customers are liability customers (depositors) with varying sizes of deposits. The number of customers who are also borrowers (asset customers) is quite small, and the bank is interested in expanding this base rapidly to bring in more loan business and in the process, earn more through the interest on loans. In particular, the management wants to explore ways of converting its liability customers to personal loan customers (while retaining them as depositors).\n",
    "\n",
    "A campaign that the bank ran last year for liability customers showed a healthy conversion rate of over 9% success. This has encouraged the retail marketing department to devise campaigns with better target marketing to increase the success ratio.\n",
    "\n",
    "You as a Data scientist at AllLife bank have to build a model that will help the marketing department to identify the potential customers who have a higher probability of purchasing the loan."
   ]
  },
  {
   "cell_type": "markdown",
   "metadata": {
    "id": "s4T59mPjxMmc"
   },
   "source": [
    "### Objective\n",
    "\n",
    "To predict whether a liability customer will buy personal loans, to understand which customer attributes are most significant in driving purchases, and identify which segment of customers to target more."
   ]
  },
  {
   "cell_type": "markdown",
   "metadata": {
    "id": "FN8fKs4_xPLS"
   },
   "source": [
    "### Data Dictionary\n",
    "* `ID`: Customer ID\n",
    "* `Age`: Customer’s age in completed years\n",
    "* `Experience`: #years of professional experience\n",
    "* `Income`: Annual income of the customer (in thousand dollars)\n",
    "* `ZIP Code`: Home Address ZIP code.\n",
    "* `Family`: the Family size of the customer\n",
    "* `CCAvg`: Average spending on credit cards per month (in thousand dollars)\n",
    "* `Education`: Education Level. 1: Undergrad; 2: Graduate;3: Advanced/Professional\n",
    "* `Mortgage`: Value of house mortgage if any. (in thousand dollars)\n",
    "* `Personal_Loan`: Did this customer accept the personal loan offered in the last campaign? (0: No, 1: Yes)\n",
    "* `Securities_Account`: Does the customer have securities account with the bank? (0: No, 1: Yes)\n",
    "* `CD_Account`: Does the customer have a certificate of deposit (CD) account with the bank? (0: No, 1: Yes)\n",
    "* `Online`: Do customers use internet banking facilities? (0: No, 1: Yes)\n",
    "* `CreditCard`: Does the customer use a credit card issued by any other Bank (excluding All life Bank)? (0: No, 1: Yes)"
   ]
  },
  {
   "cell_type": "markdown",
   "metadata": {
    "id": "CP-77n_lxyBt"
   },
   "source": [
    "## Importing necessary libraries"
   ]
  },
  {
   "cell_type": "code",
   "execution_count": null,
   "metadata": {
    "id": "ryFwv2fwXqBw"
   },
   "outputs": [],
   "source": [
    "# Installing the libraries with the specified version.\n",
    "!pip install numpy==1.25.2 pandas==1.5.3 matplotlib==3.7.1 seaborn==0.13.1 scikit-learn==1.2.2 sklearn-pandas==2.2.0 uszipcode==1.0.1 -q --user"
   ]
  },
  {
   "cell_type": "markdown",
   "metadata": {
    "id": "Id5iPySmwVCi"
   },
   "source": [
    "**Note**:\n",
    "\n",
    "1. After running the above cell, kindly restart the notebook kernel (for Jupyter Notebook) or runtime (for Google Colab), write the relevant code for the project from the next cell, and run all cells sequentially from the next cell.\n",
    "\n",
    "2. On executing the above line of code, you might see a warning regarding package dependencies. This error message can be ignored as the above code ensures that all necessary libraries and their dependencies are maintained to successfully execute the code in this notebook."
   ]
  },
  {
   "cell_type": "markdown",
   "metadata": {},
   "source": [
    "# import all of required libraries and dependecies setting in next code block"
   ]
  },
  {
   "cell_type": "code",
   "execution_count": 1,
   "metadata": {
    "id": "O36RnISpw679"
   },
   "outputs": [],
   "source": [
    "# Library to suppress warnings\n",
    "import warnings\n",
    "warnings.filterwarnings(\"ignore\")\n",
    "\n",
    "# Data manipulation Libraries\n",
    "import pandas as pd\n",
    "import numpy as np\n",
    "\n",
    "# Library to split data for testing and training model\n",
    "from sklearn.model_selection import train_test_split\n",
    "\n",
    "# Data Visualization Libraries\n",
    "import matplotlib.pyplot as plt\n",
    "import seaborn as sns\n",
    "\n",
    "# Display as many columns in data\n",
    "pd.set_option(\"display.max_columns\", None)\n",
    "# Limit number of rows to be displayed to 100 to avoid long list\n",
    "pd.set_option(\"display.max_rows\", 100)\n",
    "\n",
    "# Logistic Regression Library\n",
    "from sklearn.linear_model import LogisticRegression\n",
    "\n",
    "# Decision Tree Classifier Libraries\n",
    "from sklearn.tree import DecisionTreeClassifier\n",
    "from sklearn import tree\n",
    "\n",
    "# Import Grid Search Model for Exhaustive search over specified parameter values for an estimator.\n",
    "from sklearn.model_selection import GridSearchCV\n",
    "\n",
    "# import specific modules from sklearn metrics library\n",
    "from sklearn.metrics import (\n",
    "    f1_score,\n",
    "    accuracy_score,\n",
    "    recall_score,\n",
    "    precision_score,\n",
    "    confusion_matrix,\n",
    "    ConfusionMatrixDisplay,\n",
    "    precision_recall_curve,\n",
    "    roc_curve,\n",
    "    roc_auc_score,\n",
    "    make_scorer,\n",
    "\n",
    ")\n",
    "\n",
    "# import the SearchEngine from uszipcode library\n",
    "# Note - latest uszipcode==1.0.1 has incompatiblity with latest SQLAlchemy and sqlalchemy_mate\n",
    "# You may need to install dependecies in this sequence to ensure uszipcode library works without error\n",
    "# pip install sqlalchemy_mate==1.4.28.4\n",
    "# pip install SQLAlchemy==1.4.32\n",
    "# pip install uszipcode==1.0.1\n",
    "# pip install python-Levenshtein\n",
    "\n",
    "from uszipcode import SearchEngine\n"
   ]
  },
  {
   "cell_type": "markdown",
   "metadata": {
    "id": "D0cilOy9yeK7"
   },
   "source": [
    "## Loading the dataset"
   ]
  },
  {
   "cell_type": "code",
   "execution_count": 8,
   "metadata": {
    "id": "veW9EM12yd5M"
   },
   "outputs": [],
   "source": [
    "# Load data file\n",
    "data = pd.read_csv(\"Loan_Modelling.csv\")\n",
    "# Make a copy of the data to avoid any changes to the original data during manipulation\n",
    "loan = data.copy()"
   ]
  },
  {
   "cell_type": "markdown",
   "metadata": {
    "id": "vUbDMkrLQb8U"
   },
   "source": [
    "## Data Overview"
   ]
  },
  {
   "cell_type": "markdown",
   "metadata": {
    "id": "yPQbY4cIQaK4"
   },
   "source": [
    "* Observations\n",
    "* Sanity checks"
   ]
  },
  {
   "cell_type": "code",
   "execution_count": 9,
   "metadata": {
    "id": "EKrLdS4fZmpk"
   },
   "outputs": [
    {
     "data": {
      "text/html": [
       "<div>\n",
       "<style scoped>\n",
       "    .dataframe tbody tr th:only-of-type {\n",
       "        vertical-align: middle;\n",
       "    }\n",
       "\n",
       "    .dataframe tbody tr th {\n",
       "        vertical-align: top;\n",
       "    }\n",
       "\n",
       "    .dataframe thead th {\n",
       "        text-align: right;\n",
       "    }\n",
       "</style>\n",
       "<table border=\"1\" class=\"dataframe\">\n",
       "  <thead>\n",
       "    <tr style=\"text-align: right;\">\n",
       "      <th></th>\n",
       "      <th>ID</th>\n",
       "      <th>Age</th>\n",
       "      <th>Experience</th>\n",
       "      <th>Income</th>\n",
       "      <th>ZIPCode</th>\n",
       "      <th>Family</th>\n",
       "      <th>CCAvg</th>\n",
       "      <th>Education</th>\n",
       "      <th>Mortgage</th>\n",
       "      <th>Personal_Loan</th>\n",
       "      <th>Securities_Account</th>\n",
       "      <th>CD_Account</th>\n",
       "      <th>Online</th>\n",
       "      <th>CreditCard</th>\n",
       "    </tr>\n",
       "  </thead>\n",
       "  <tbody>\n",
       "    <tr>\n",
       "      <th>1997</th>\n",
       "      <td>1998</td>\n",
       "      <td>54</td>\n",
       "      <td>30</td>\n",
       "      <td>61</td>\n",
       "      <td>92093</td>\n",
       "      <td>1</td>\n",
       "      <td>1.8</td>\n",
       "      <td>3</td>\n",
       "      <td>0</td>\n",
       "      <td>0</td>\n",
       "      <td>0</td>\n",
       "      <td>0</td>\n",
       "      <td>1</td>\n",
       "      <td>0</td>\n",
       "    </tr>\n",
       "    <tr>\n",
       "      <th>4978</th>\n",
       "      <td>4979</td>\n",
       "      <td>57</td>\n",
       "      <td>27</td>\n",
       "      <td>63</td>\n",
       "      <td>90210</td>\n",
       "      <td>4</td>\n",
       "      <td>2.0</td>\n",
       "      <td>3</td>\n",
       "      <td>0</td>\n",
       "      <td>0</td>\n",
       "      <td>0</td>\n",
       "      <td>0</td>\n",
       "      <td>1</td>\n",
       "      <td>0</td>\n",
       "    </tr>\n",
       "    <tr>\n",
       "      <th>1855</th>\n",
       "      <td>1856</td>\n",
       "      <td>65</td>\n",
       "      <td>39</td>\n",
       "      <td>30</td>\n",
       "      <td>94304</td>\n",
       "      <td>3</td>\n",
       "      <td>0.7</td>\n",
       "      <td>2</td>\n",
       "      <td>0</td>\n",
       "      <td>0</td>\n",
       "      <td>0</td>\n",
       "      <td>0</td>\n",
       "      <td>1</td>\n",
       "      <td>1</td>\n",
       "    </tr>\n",
       "    <tr>\n",
       "      <th>2701</th>\n",
       "      <td>2702</td>\n",
       "      <td>50</td>\n",
       "      <td>26</td>\n",
       "      <td>55</td>\n",
       "      <td>94305</td>\n",
       "      <td>1</td>\n",
       "      <td>1.6</td>\n",
       "      <td>2</td>\n",
       "      <td>0</td>\n",
       "      <td>0</td>\n",
       "      <td>0</td>\n",
       "      <td>0</td>\n",
       "      <td>1</td>\n",
       "      <td>0</td>\n",
       "    </tr>\n",
       "    <tr>\n",
       "      <th>1701</th>\n",
       "      <td>1702</td>\n",
       "      <td>29</td>\n",
       "      <td>3</td>\n",
       "      <td>108</td>\n",
       "      <td>94304</td>\n",
       "      <td>4</td>\n",
       "      <td>1.8</td>\n",
       "      <td>2</td>\n",
       "      <td>0</td>\n",
       "      <td>0</td>\n",
       "      <td>0</td>\n",
       "      <td>0</td>\n",
       "      <td>0</td>\n",
       "      <td>0</td>\n",
       "    </tr>\n",
       "    <tr>\n",
       "      <th>1553</th>\n",
       "      <td>1554</td>\n",
       "      <td>46</td>\n",
       "      <td>22</td>\n",
       "      <td>83</td>\n",
       "      <td>95616</td>\n",
       "      <td>3</td>\n",
       "      <td>0.7</td>\n",
       "      <td>1</td>\n",
       "      <td>0</td>\n",
       "      <td>0</td>\n",
       "      <td>0</td>\n",
       "      <td>0</td>\n",
       "      <td>0</td>\n",
       "      <td>0</td>\n",
       "    </tr>\n",
       "    <tr>\n",
       "      <th>460</th>\n",
       "      <td>461</td>\n",
       "      <td>60</td>\n",
       "      <td>36</td>\n",
       "      <td>141</td>\n",
       "      <td>90277</td>\n",
       "      <td>2</td>\n",
       "      <td>2.1</td>\n",
       "      <td>1</td>\n",
       "      <td>0</td>\n",
       "      <td>0</td>\n",
       "      <td>0</td>\n",
       "      <td>0</td>\n",
       "      <td>1</td>\n",
       "      <td>1</td>\n",
       "    </tr>\n",
       "    <tr>\n",
       "      <th>2562</th>\n",
       "      <td>2563</td>\n",
       "      <td>45</td>\n",
       "      <td>21</td>\n",
       "      <td>39</td>\n",
       "      <td>92521</td>\n",
       "      <td>2</td>\n",
       "      <td>2.1</td>\n",
       "      <td>3</td>\n",
       "      <td>184</td>\n",
       "      <td>0</td>\n",
       "      <td>0</td>\n",
       "      <td>0</td>\n",
       "      <td>0</td>\n",
       "      <td>1</td>\n",
       "    </tr>\n",
       "    <tr>\n",
       "      <th>452</th>\n",
       "      <td>453</td>\n",
       "      <td>39</td>\n",
       "      <td>13</td>\n",
       "      <td>21</td>\n",
       "      <td>94022</td>\n",
       "      <td>3</td>\n",
       "      <td>0.2</td>\n",
       "      <td>2</td>\n",
       "      <td>0</td>\n",
       "      <td>0</td>\n",
       "      <td>0</td>\n",
       "      <td>0</td>\n",
       "      <td>0</td>\n",
       "      <td>0</td>\n",
       "    </tr>\n",
       "    <tr>\n",
       "      <th>1140</th>\n",
       "      <td>1141</td>\n",
       "      <td>32</td>\n",
       "      <td>6</td>\n",
       "      <td>13</td>\n",
       "      <td>94611</td>\n",
       "      <td>4</td>\n",
       "      <td>0.3</td>\n",
       "      <td>1</td>\n",
       "      <td>0</td>\n",
       "      <td>0</td>\n",
       "      <td>0</td>\n",
       "      <td>0</td>\n",
       "      <td>1</td>\n",
       "      <td>1</td>\n",
       "    </tr>\n",
       "  </tbody>\n",
       "</table>\n",
       "</div>"
      ],
      "text/plain": [
       "        ID  Age  Experience  Income  ZIPCode  Family  CCAvg  Education  \\\n",
       "1997  1998   54          30      61    92093       1    1.8          3   \n",
       "4978  4979   57          27      63    90210       4    2.0          3   \n",
       "1855  1856   65          39      30    94304       3    0.7          2   \n",
       "2701  2702   50          26      55    94305       1    1.6          2   \n",
       "1701  1702   29           3     108    94304       4    1.8          2   \n",
       "1553  1554   46          22      83    95616       3    0.7          1   \n",
       "460    461   60          36     141    90277       2    2.1          1   \n",
       "2562  2563   45          21      39    92521       2    2.1          3   \n",
       "452    453   39          13      21    94022       3    0.2          2   \n",
       "1140  1141   32           6      13    94611       4    0.3          1   \n",
       "\n",
       "      Mortgage  Personal_Loan  Securities_Account  CD_Account  Online  \\\n",
       "1997         0              0                   0           0       1   \n",
       "4978         0              0                   0           0       1   \n",
       "1855         0              0                   0           0       1   \n",
       "2701         0              0                   0           0       1   \n",
       "1701         0              0                   0           0       0   \n",
       "1553         0              0                   0           0       0   \n",
       "460          0              0                   0           0       1   \n",
       "2562       184              0                   0           0       0   \n",
       "452          0              0                   0           0       0   \n",
       "1140         0              0                   0           0       1   \n",
       "\n",
       "      CreditCard  \n",
       "1997           0  \n",
       "4978           0  \n",
       "1855           1  \n",
       "2701           0  \n",
       "1701           0  \n",
       "1553           0  \n",
       "460            1  \n",
       "2562           1  \n",
       "452            0  \n",
       "1140           1  "
      ]
     },
     "execution_count": 9,
     "metadata": {},
     "output_type": "execute_result"
    }
   ],
   "source": [
    "# Display 10 random sample rows of the dataset\n",
    "loan.sample(10)"
   ]
  },
  {
   "cell_type": "code",
   "execution_count": 10,
   "metadata": {},
   "outputs": [
    {
     "data": {
      "text/html": [
       "<div>\n",
       "<style scoped>\n",
       "    .dataframe tbody tr th:only-of-type {\n",
       "        vertical-align: middle;\n",
       "    }\n",
       "\n",
       "    .dataframe tbody tr th {\n",
       "        vertical-align: top;\n",
       "    }\n",
       "\n",
       "    .dataframe thead th {\n",
       "        text-align: right;\n",
       "    }\n",
       "</style>\n",
       "<table border=\"1\" class=\"dataframe\">\n",
       "  <thead>\n",
       "    <tr style=\"text-align: right;\">\n",
       "      <th></th>\n",
       "      <th>Age</th>\n",
       "      <th>Experience</th>\n",
       "      <th>Income</th>\n",
       "      <th>ZIPCode</th>\n",
       "      <th>Family</th>\n",
       "      <th>CCAvg</th>\n",
       "      <th>Education</th>\n",
       "      <th>Mortgage</th>\n",
       "      <th>Personal_Loan</th>\n",
       "      <th>Securities_Account</th>\n",
       "      <th>CD_Account</th>\n",
       "      <th>Online</th>\n",
       "      <th>CreditCard</th>\n",
       "    </tr>\n",
       "  </thead>\n",
       "  <tbody>\n",
       "    <tr>\n",
       "      <th>945</th>\n",
       "      <td>57</td>\n",
       "      <td>32</td>\n",
       "      <td>33</td>\n",
       "      <td>91745</td>\n",
       "      <td>1</td>\n",
       "      <td>1.50</td>\n",
       "      <td>2</td>\n",
       "      <td>0</td>\n",
       "      <td>0</td>\n",
       "      <td>0</td>\n",
       "      <td>0</td>\n",
       "      <td>1</td>\n",
       "      <td>0</td>\n",
       "    </tr>\n",
       "    <tr>\n",
       "      <th>3318</th>\n",
       "      <td>46</td>\n",
       "      <td>20</td>\n",
       "      <td>105</td>\n",
       "      <td>90089</td>\n",
       "      <td>4</td>\n",
       "      <td>3.20</td>\n",
       "      <td>1</td>\n",
       "      <td>0</td>\n",
       "      <td>1</td>\n",
       "      <td>0</td>\n",
       "      <td>0</td>\n",
       "      <td>0</td>\n",
       "      <td>0</td>\n",
       "    </tr>\n",
       "    <tr>\n",
       "      <th>1191</th>\n",
       "      <td>29</td>\n",
       "      <td>5</td>\n",
       "      <td>128</td>\n",
       "      <td>94111</td>\n",
       "      <td>1</td>\n",
       "      <td>1.50</td>\n",
       "      <td>1</td>\n",
       "      <td>0</td>\n",
       "      <td>0</td>\n",
       "      <td>0</td>\n",
       "      <td>0</td>\n",
       "      <td>1</td>\n",
       "      <td>1</td>\n",
       "    </tr>\n",
       "    <tr>\n",
       "      <th>4670</th>\n",
       "      <td>52</td>\n",
       "      <td>26</td>\n",
       "      <td>194</td>\n",
       "      <td>94305</td>\n",
       "      <td>1</td>\n",
       "      <td>1.70</td>\n",
       "      <td>1</td>\n",
       "      <td>0</td>\n",
       "      <td>0</td>\n",
       "      <td>0</td>\n",
       "      <td>0</td>\n",
       "      <td>1</td>\n",
       "      <td>0</td>\n",
       "    </tr>\n",
       "    <tr>\n",
       "      <th>4807</th>\n",
       "      <td>40</td>\n",
       "      <td>14</td>\n",
       "      <td>53</td>\n",
       "      <td>90064</td>\n",
       "      <td>1</td>\n",
       "      <td>2.00</td>\n",
       "      <td>1</td>\n",
       "      <td>0</td>\n",
       "      <td>0</td>\n",
       "      <td>0</td>\n",
       "      <td>0</td>\n",
       "      <td>1</td>\n",
       "      <td>1</td>\n",
       "    </tr>\n",
       "    <tr>\n",
       "      <th>2116</th>\n",
       "      <td>44</td>\n",
       "      <td>17</td>\n",
       "      <td>70</td>\n",
       "      <td>94920</td>\n",
       "      <td>3</td>\n",
       "      <td>2.67</td>\n",
       "      <td>2</td>\n",
       "      <td>0</td>\n",
       "      <td>0</td>\n",
       "      <td>0</td>\n",
       "      <td>0</td>\n",
       "      <td>0</td>\n",
       "      <td>0</td>\n",
       "    </tr>\n",
       "    <tr>\n",
       "      <th>1349</th>\n",
       "      <td>26</td>\n",
       "      <td>2</td>\n",
       "      <td>171</td>\n",
       "      <td>93943</td>\n",
       "      <td>3</td>\n",
       "      <td>6.00</td>\n",
       "      <td>2</td>\n",
       "      <td>0</td>\n",
       "      <td>1</td>\n",
       "      <td>0</td>\n",
       "      <td>0</td>\n",
       "      <td>1</td>\n",
       "      <td>0</td>\n",
       "    </tr>\n",
       "    <tr>\n",
       "      <th>1187</th>\n",
       "      <td>61</td>\n",
       "      <td>36</td>\n",
       "      <td>24</td>\n",
       "      <td>94309</td>\n",
       "      <td>1</td>\n",
       "      <td>1.50</td>\n",
       "      <td>2</td>\n",
       "      <td>87</td>\n",
       "      <td>0</td>\n",
       "      <td>1</td>\n",
       "      <td>0</td>\n",
       "      <td>0</td>\n",
       "      <td>0</td>\n",
       "    </tr>\n",
       "    <tr>\n",
       "      <th>1387</th>\n",
       "      <td>35</td>\n",
       "      <td>10</td>\n",
       "      <td>38</td>\n",
       "      <td>95762</td>\n",
       "      <td>4</td>\n",
       "      <td>1.70</td>\n",
       "      <td>1</td>\n",
       "      <td>0</td>\n",
       "      <td>0</td>\n",
       "      <td>0</td>\n",
       "      <td>0</td>\n",
       "      <td>1</td>\n",
       "      <td>1</td>\n",
       "    </tr>\n",
       "    <tr>\n",
       "      <th>3960</th>\n",
       "      <td>62</td>\n",
       "      <td>37</td>\n",
       "      <td>48</td>\n",
       "      <td>92028</td>\n",
       "      <td>3</td>\n",
       "      <td>2.20</td>\n",
       "      <td>1</td>\n",
       "      <td>0</td>\n",
       "      <td>0</td>\n",
       "      <td>0</td>\n",
       "      <td>0</td>\n",
       "      <td>0</td>\n",
       "      <td>0</td>\n",
       "    </tr>\n",
       "  </tbody>\n",
       "</table>\n",
       "</div>"
      ],
      "text/plain": [
       "      Age  Experience  Income  ZIPCode  Family  CCAvg  Education  Mortgage  \\\n",
       "945    57          32      33    91745       1   1.50          2         0   \n",
       "3318   46          20     105    90089       4   3.20          1         0   \n",
       "1191   29           5     128    94111       1   1.50          1         0   \n",
       "4670   52          26     194    94305       1   1.70          1         0   \n",
       "4807   40          14      53    90064       1   2.00          1         0   \n",
       "2116   44          17      70    94920       3   2.67          2         0   \n",
       "1349   26           2     171    93943       3   6.00          2         0   \n",
       "1187   61          36      24    94309       1   1.50          2        87   \n",
       "1387   35          10      38    95762       4   1.70          1         0   \n",
       "3960   62          37      48    92028       3   2.20          1         0   \n",
       "\n",
       "      Personal_Loan  Securities_Account  CD_Account  Online  CreditCard  \n",
       "945               0                   0           0       1           0  \n",
       "3318              1                   0           0       0           0  \n",
       "1191              0                   0           0       1           1  \n",
       "4670              0                   0           0       1           0  \n",
       "4807              0                   0           0       1           1  \n",
       "2116              0                   0           0       0           0  \n",
       "1349              1                   0           0       1           0  \n",
       "1187              0                   1           0       0           0  \n",
       "1387              0                   0           0       1           1  \n",
       "3960              0                   0           0       0           0  "
      ]
     },
     "execution_count": 10,
     "metadata": {},
     "output_type": "execute_result"
    }
   ],
   "source": [
    "# Lets drop the ID Column from dataset, as it does not add specific predictibility value\n",
    "loan.drop(\"ID\", axis=1, inplace=True)\n",
    "loan.sample(10)"
   ]
  },
  {
   "cell_type": "code",
   "execution_count": 11,
   "metadata": {},
   "outputs": [
    {
     "name": "stdout",
     "output_type": "stream",
     "text": [
      "   Age  Experience  Income  ZIPCode  Family  CCAvg  Education  Mortgage  \\\n",
      "0   25           1      49    91107       4    1.6          1         0   \n",
      "1   45          19      34    90089       3    1.5          1         0   \n",
      "2   39          15      11    94720       1    1.0          1         0   \n",
      "3   35           9     100    94112       1    2.7          2         0   \n",
      "4   35           8      45    91330       4    1.0          2         0   \n",
      "\n",
      "   Personal_Loan  Securities_Account  CD_Account  Online  CreditCard  \n",
      "0              0                   1           0       0           0  \n",
      "1              0                   1           0       0           0  \n",
      "2              0                   0           0       0           0  \n",
      "3              0                   0           0       0           0  \n",
      "4              0                   0           0       0           1  \n",
      "---------------------------------------------------------------------------\n",
      "      Age  Experience  Income  ZIPCode  Family  CCAvg  Education  Mortgage  \\\n",
      "4995   29           3      40    92697       1    1.9          3         0   \n",
      "4996   30           4      15    92037       4    0.4          1        85   \n",
      "4997   63          39      24    93023       2    0.3          3         0   \n",
      "4998   65          40      49    90034       3    0.5          2         0   \n",
      "4999   28           4      83    92612       3    0.8          1         0   \n",
      "\n",
      "      Personal_Loan  Securities_Account  CD_Account  Online  CreditCard  \n",
      "4995              0                   0           0       1           0  \n",
      "4996              0                   0           0       1           0  \n",
      "4997              0                   0           0       0           0  \n",
      "4998              0                   0           0       1           0  \n",
      "4999              0                   0           0       1           1  \n"
     ]
    }
   ],
   "source": [
    "# print first and last 5 rows of the dataset.\n",
    "print(loan.head())\n",
    "print(\"-\" * 75)\n",
    "print(loan.tail())\n"
   ]
  },
  {
   "cell_type": "code",
   "execution_count": 12,
   "metadata": {},
   "outputs": [
    {
     "data": {
      "text/plain": [
       "Age                   0\n",
       "Experience            0\n",
       "Income                0\n",
       "ZIPCode               0\n",
       "Family                0\n",
       "CCAvg                 0\n",
       "Education             0\n",
       "Mortgage              0\n",
       "Personal_Loan         0\n",
       "Securities_Account    0\n",
       "CD_Account            0\n",
       "Online                0\n",
       "CreditCard            0\n",
       "dtype: int64"
      ]
     },
     "execution_count": 12,
     "metadata": {},
     "output_type": "execute_result"
    }
   ],
   "source": [
    "# Check for null values\n",
    "loan.isnull().sum()\n"
   ]
  },
  {
   "cell_type": "code",
   "execution_count": 13,
   "metadata": {},
   "outputs": [
    {
     "data": {
      "text/plain": [
       "0"
      ]
     },
     "execution_count": 13,
     "metadata": {},
     "output_type": "execute_result"
    }
   ],
   "source": [
    "# Check for duplicate values\n",
    "loan.duplicated().sum()"
   ]
  },
  {
   "cell_type": "markdown",
   "metadata": {},
   "source": [
    "# Observation: \n",
    " - No duplicate values found in the data set\n",
    " - No null values found in the data set"
   ]
  },
  {
   "cell_type": "code",
   "execution_count": 14,
   "metadata": {},
   "outputs": [
    {
     "name": "stdout",
     "output_type": "stream",
     "text": [
      "Dataset shape:  (5000, 13)\n"
     ]
    }
   ],
   "source": [
    "# check shape of the data set\n",
    "print(\"Dataset shape: \", loan.shape)"
   ]
  },
  {
   "cell_type": "code",
   "execution_count": 15,
   "metadata": {},
   "outputs": [
    {
     "name": "stdout",
     "output_type": "stream",
     "text": [
      "<class 'pandas.core.frame.DataFrame'>\n",
      "RangeIndex: 5000 entries, 0 to 4999\n",
      "Data columns (total 13 columns):\n",
      " #   Column              Non-Null Count  Dtype  \n",
      "---  ------              --------------  -----  \n",
      " 0   Age                 5000 non-null   int64  \n",
      " 1   Experience          5000 non-null   int64  \n",
      " 2   Income              5000 non-null   int64  \n",
      " 3   ZIPCode             5000 non-null   int64  \n",
      " 4   Family              5000 non-null   int64  \n",
      " 5   CCAvg               5000 non-null   float64\n",
      " 6   Education           5000 non-null   int64  \n",
      " 7   Mortgage            5000 non-null   int64  \n",
      " 8   Personal_Loan       5000 non-null   int64  \n",
      " 9   Securities_Account  5000 non-null   int64  \n",
      " 10  CD_Account          5000 non-null   int64  \n",
      " 11  Online              5000 non-null   int64  \n",
      " 12  CreditCard          5000 non-null   int64  \n",
      "dtypes: float64(1), int64(12)\n",
      "memory usage: 507.9 KB\n"
     ]
    }
   ],
   "source": [
    "# check variables datatypes\n",
    "loan.info()"
   ]
  },
  {
   "cell_type": "code",
   "execution_count": 16,
   "metadata": {},
   "outputs": [
    {
     "data": {
      "text/html": [
       "<div>\n",
       "<style scoped>\n",
       "    .dataframe tbody tr th:only-of-type {\n",
       "        vertical-align: middle;\n",
       "    }\n",
       "\n",
       "    .dataframe tbody tr th {\n",
       "        vertical-align: top;\n",
       "    }\n",
       "\n",
       "    .dataframe thead th {\n",
       "        text-align: right;\n",
       "    }\n",
       "</style>\n",
       "<table border=\"1\" class=\"dataframe\">\n",
       "  <thead>\n",
       "    <tr style=\"text-align: right;\">\n",
       "      <th></th>\n",
       "      <th>count</th>\n",
       "      <th>mean</th>\n",
       "      <th>std</th>\n",
       "      <th>min</th>\n",
       "      <th>25%</th>\n",
       "      <th>50%</th>\n",
       "      <th>75%</th>\n",
       "      <th>max</th>\n",
       "    </tr>\n",
       "  </thead>\n",
       "  <tbody>\n",
       "    <tr>\n",
       "      <th>Age</th>\n",
       "      <td>5000.0</td>\n",
       "      <td>45.338400</td>\n",
       "      <td>11.463166</td>\n",
       "      <td>23.0</td>\n",
       "      <td>35.0</td>\n",
       "      <td>45.0</td>\n",
       "      <td>55.0</td>\n",
       "      <td>67.0</td>\n",
       "    </tr>\n",
       "    <tr>\n",
       "      <th>Experience</th>\n",
       "      <td>5000.0</td>\n",
       "      <td>20.104600</td>\n",
       "      <td>11.467954</td>\n",
       "      <td>-3.0</td>\n",
       "      <td>10.0</td>\n",
       "      <td>20.0</td>\n",
       "      <td>30.0</td>\n",
       "      <td>43.0</td>\n",
       "    </tr>\n",
       "    <tr>\n",
       "      <th>Income</th>\n",
       "      <td>5000.0</td>\n",
       "      <td>73.774200</td>\n",
       "      <td>46.033729</td>\n",
       "      <td>8.0</td>\n",
       "      <td>39.0</td>\n",
       "      <td>64.0</td>\n",
       "      <td>98.0</td>\n",
       "      <td>224.0</td>\n",
       "    </tr>\n",
       "    <tr>\n",
       "      <th>ZIPCode</th>\n",
       "      <td>5000.0</td>\n",
       "      <td>93169.257000</td>\n",
       "      <td>1759.455086</td>\n",
       "      <td>90005.0</td>\n",
       "      <td>91911.0</td>\n",
       "      <td>93437.0</td>\n",
       "      <td>94608.0</td>\n",
       "      <td>96651.0</td>\n",
       "    </tr>\n",
       "    <tr>\n",
       "      <th>Family</th>\n",
       "      <td>5000.0</td>\n",
       "      <td>2.396400</td>\n",
       "      <td>1.147663</td>\n",
       "      <td>1.0</td>\n",
       "      <td>1.0</td>\n",
       "      <td>2.0</td>\n",
       "      <td>3.0</td>\n",
       "      <td>4.0</td>\n",
       "    </tr>\n",
       "    <tr>\n",
       "      <th>CCAvg</th>\n",
       "      <td>5000.0</td>\n",
       "      <td>1.937938</td>\n",
       "      <td>1.747659</td>\n",
       "      <td>0.0</td>\n",
       "      <td>0.7</td>\n",
       "      <td>1.5</td>\n",
       "      <td>2.5</td>\n",
       "      <td>10.0</td>\n",
       "    </tr>\n",
       "    <tr>\n",
       "      <th>Education</th>\n",
       "      <td>5000.0</td>\n",
       "      <td>1.881000</td>\n",
       "      <td>0.839869</td>\n",
       "      <td>1.0</td>\n",
       "      <td>1.0</td>\n",
       "      <td>2.0</td>\n",
       "      <td>3.0</td>\n",
       "      <td>3.0</td>\n",
       "    </tr>\n",
       "    <tr>\n",
       "      <th>Mortgage</th>\n",
       "      <td>5000.0</td>\n",
       "      <td>56.498800</td>\n",
       "      <td>101.713802</td>\n",
       "      <td>0.0</td>\n",
       "      <td>0.0</td>\n",
       "      <td>0.0</td>\n",
       "      <td>101.0</td>\n",
       "      <td>635.0</td>\n",
       "    </tr>\n",
       "    <tr>\n",
       "      <th>Personal_Loan</th>\n",
       "      <td>5000.0</td>\n",
       "      <td>0.096000</td>\n",
       "      <td>0.294621</td>\n",
       "      <td>0.0</td>\n",
       "      <td>0.0</td>\n",
       "      <td>0.0</td>\n",
       "      <td>0.0</td>\n",
       "      <td>1.0</td>\n",
       "    </tr>\n",
       "    <tr>\n",
       "      <th>Securities_Account</th>\n",
       "      <td>5000.0</td>\n",
       "      <td>0.104400</td>\n",
       "      <td>0.305809</td>\n",
       "      <td>0.0</td>\n",
       "      <td>0.0</td>\n",
       "      <td>0.0</td>\n",
       "      <td>0.0</td>\n",
       "      <td>1.0</td>\n",
       "    </tr>\n",
       "    <tr>\n",
       "      <th>CD_Account</th>\n",
       "      <td>5000.0</td>\n",
       "      <td>0.060400</td>\n",
       "      <td>0.238250</td>\n",
       "      <td>0.0</td>\n",
       "      <td>0.0</td>\n",
       "      <td>0.0</td>\n",
       "      <td>0.0</td>\n",
       "      <td>1.0</td>\n",
       "    </tr>\n",
       "    <tr>\n",
       "      <th>Online</th>\n",
       "      <td>5000.0</td>\n",
       "      <td>0.596800</td>\n",
       "      <td>0.490589</td>\n",
       "      <td>0.0</td>\n",
       "      <td>0.0</td>\n",
       "      <td>1.0</td>\n",
       "      <td>1.0</td>\n",
       "      <td>1.0</td>\n",
       "    </tr>\n",
       "    <tr>\n",
       "      <th>CreditCard</th>\n",
       "      <td>5000.0</td>\n",
       "      <td>0.294000</td>\n",
       "      <td>0.455637</td>\n",
       "      <td>0.0</td>\n",
       "      <td>0.0</td>\n",
       "      <td>0.0</td>\n",
       "      <td>1.0</td>\n",
       "      <td>1.0</td>\n",
       "    </tr>\n",
       "  </tbody>\n",
       "</table>\n",
       "</div>"
      ],
      "text/plain": [
       "                     count          mean          std      min      25%  \\\n",
       "Age                 5000.0     45.338400    11.463166     23.0     35.0   \n",
       "Experience          5000.0     20.104600    11.467954     -3.0     10.0   \n",
       "Income              5000.0     73.774200    46.033729      8.0     39.0   \n",
       "ZIPCode             5000.0  93169.257000  1759.455086  90005.0  91911.0   \n",
       "Family              5000.0      2.396400     1.147663      1.0      1.0   \n",
       "CCAvg               5000.0      1.937938     1.747659      0.0      0.7   \n",
       "Education           5000.0      1.881000     0.839869      1.0      1.0   \n",
       "Mortgage            5000.0     56.498800   101.713802      0.0      0.0   \n",
       "Personal_Loan       5000.0      0.096000     0.294621      0.0      0.0   \n",
       "Securities_Account  5000.0      0.104400     0.305809      0.0      0.0   \n",
       "CD_Account          5000.0      0.060400     0.238250      0.0      0.0   \n",
       "Online              5000.0      0.596800     0.490589      0.0      0.0   \n",
       "CreditCard          5000.0      0.294000     0.455637      0.0      0.0   \n",
       "\n",
       "                        50%      75%      max  \n",
       "Age                    45.0     55.0     67.0  \n",
       "Experience             20.0     30.0     43.0  \n",
       "Income                 64.0     98.0    224.0  \n",
       "ZIPCode             93437.0  94608.0  96651.0  \n",
       "Family                  2.0      3.0      4.0  \n",
       "CCAvg                   1.5      2.5     10.0  \n",
       "Education               2.0      3.0      3.0  \n",
       "Mortgage                0.0    101.0    635.0  \n",
       "Personal_Loan           0.0      0.0      1.0  \n",
       "Securities_Account      0.0      0.0      1.0  \n",
       "CD_Account              0.0      0.0      1.0  \n",
       "Online                  1.0      1.0      1.0  \n",
       "CreditCard              0.0      1.0      1.0  "
      ]
     },
     "execution_count": 16,
     "metadata": {},
     "output_type": "execute_result"
    }
   ],
   "source": [
    "# Data Summary\n",
    "loan.describe().T"
   ]
  },
  {
   "cell_type": "markdown",
   "metadata": {},
   "source": [
    "## Observations (in order of display):\n",
    "Age - min Age is 23 , max is 67 , Average is 45 Years old - Data seems normal\n",
    "Experience - min Experience is -3 years, looks odd\n",
    "Income - min Income is USD 46k, max is USD 224K and average is USD 64K - Data Appears to be right skewed.\n",
    "ZIPCode - Zip codes should be converted to City/State using uszip library to avoid treating it as plain number as its location.\n",
    "Family - min Family size is 1, max is 4 and average is 2 - Data looks reasonable and normally distributed, we can use it as category.\n",
    "CCAvg - min CCAvg is USD 0k, max is USD 1.9K and average is USD 10K - Data appears normal but right skewed.\n",
    "Education -  Education is a categorical variable for 1 as Undergrad, 2 as Graduate and 3 as Professional\n",
    "Mortgage - min Mortgage is USD 0, max is USD 635K and average is USD 0 - Data appears right skewed\n",
    "Personal_Loan - Personal_Loan is a categorical variable where 1: customer accepted the personal loan offered in the last campaign and 0:customer didnot accept\n",
    "Securities_Account - Securities_Account is a categorical variable where 1: customer has Securities_Account 0:customer does not have Securities_Account\n",
    "CD_Account - CD_Account is a categorical variable where 1: customer has CD_Account 0:customer does not have CD_Account\n",
    "Online - Online is a categorical variable where 1: customer uses online banking 0:customer does use online banking\n",
    "CreditCard - CreditCard is a categorical variable where 1: customer use a credit card issued by any other Bank 0:customer does not use a credit card issued by any other Bank"
   ]
  },
  {
   "cell_type": "markdown",
   "metadata": {},
   "source": [
    "### ZIPCode coversion to City and State "
   ]
  },
  {
   "cell_type": "code",
   "execution_count": 17,
   "metadata": {},
   "outputs": [
    {
     "name": "stdout",
     "output_type": "stream",
     "text": [
      "Download D:\\Dev\\Home\\.uszipcode\\simple_db.sqlite from https://github.com/MacHu-GWU/uszipcode-project/releases/download/1.0.1.db/simple_db.sqlite ...\n",
      "  1.00 MB downloaded ...\n",
      "  2.00 MB downloaded ...\n",
      "  3.00 MB downloaded ...\n",
      "  4.00 MB downloaded ...\n",
      "  5.00 MB downloaded ...\n",
      "  6.00 MB downloaded ...\n",
      "  7.00 MB downloaded ...\n",
      "  8.00 MB downloaded ...\n",
      "  9.00 MB downloaded ...\n",
      "  10.00 MB downloaded ...\n",
      "  11.00 MB downloaded ...\n",
      "  Complete!\n"
     ]
    }
   ],
   "source": [
    "# Find City and State for each ZIP code\n",
    "# Create the search engine fro uszipcode library\n",
    "search = SearchEngine()\n",
    "\n",
    "# Function to extract the city using zipcode value\n",
    "def get_city(x):\n",
    "    return search.by_zipcode(x).city\n",
    "\n",
    "# Function to extract state using zipcode value\n",
    "def get_state(x):\n",
    "    return search.by_zipcode(x).state"
   ]
  },
  {
   "cell_type": "code",
   "execution_count": 18,
   "metadata": {},
   "outputs": [],
   "source": [
    "# Now populate city and state for each record/zip code\n",
    "city_list = []\n",
    "state_list =[]\n",
    "\n",
    "# Loop through 5000 records in data, to extract city/state and add value to corrosponding lists\n",
    "for i in np.arange(0,5000):\n",
    "    try:\n",
    "        city = get_city(loan[\"ZIPCode\"].iloc[i])\n",
    "        city_list.append(city)\n",
    "        state = get_state(loan[\"ZIPCode\"].iloc[i])\n",
    "        state_list.append(state)\n",
    "    except:\n",
    "        city_list.append(np.nan)\n",
    "        state_list.append(np.nan)\n",
    "    continue"
   ]
  },
  {
   "cell_type": "code",
   "execution_count": 47,
   "metadata": {},
   "outputs": [
    {
     "data": {
      "text/html": [
       "<div>\n",
       "<style scoped>\n",
       "    .dataframe tbody tr th:only-of-type {\n",
       "        vertical-align: middle;\n",
       "    }\n",
       "\n",
       "    .dataframe tbody tr th {\n",
       "        vertical-align: top;\n",
       "    }\n",
       "\n",
       "    .dataframe thead th {\n",
       "        text-align: right;\n",
       "    }\n",
       "</style>\n",
       "<table border=\"1\" class=\"dataframe\">\n",
       "  <thead>\n",
       "    <tr style=\"text-align: right;\">\n",
       "      <th></th>\n",
       "      <th>Age</th>\n",
       "      <th>Experience</th>\n",
       "      <th>Income</th>\n",
       "      <th>ZIPCode</th>\n",
       "      <th>Family</th>\n",
       "      <th>CCAvg</th>\n",
       "      <th>Education</th>\n",
       "      <th>Mortgage</th>\n",
       "      <th>Personal_Loan</th>\n",
       "      <th>Securities_Account</th>\n",
       "      <th>CD_Account</th>\n",
       "      <th>Online</th>\n",
       "      <th>CreditCard</th>\n",
       "      <th>City</th>\n",
       "      <th>State</th>\n",
       "    </tr>\n",
       "  </thead>\n",
       "  <tbody>\n",
       "    <tr>\n",
       "      <th>0</th>\n",
       "      <td>25</td>\n",
       "      <td>1</td>\n",
       "      <td>49</td>\n",
       "      <td>91107</td>\n",
       "      <td>4</td>\n",
       "      <td>1.6</td>\n",
       "      <td>1</td>\n",
       "      <td>0</td>\n",
       "      <td>0</td>\n",
       "      <td>1</td>\n",
       "      <td>0</td>\n",
       "      <td>0</td>\n",
       "      <td>0</td>\n",
       "      <td>Pasadena</td>\n",
       "      <td>CA</td>\n",
       "    </tr>\n",
       "    <tr>\n",
       "      <th>1</th>\n",
       "      <td>45</td>\n",
       "      <td>19</td>\n",
       "      <td>34</td>\n",
       "      <td>90089</td>\n",
       "      <td>3</td>\n",
       "      <td>1.5</td>\n",
       "      <td>1</td>\n",
       "      <td>0</td>\n",
       "      <td>0</td>\n",
       "      <td>1</td>\n",
       "      <td>0</td>\n",
       "      <td>0</td>\n",
       "      <td>0</td>\n",
       "      <td>Los Angeles</td>\n",
       "      <td>CA</td>\n",
       "    </tr>\n",
       "    <tr>\n",
       "      <th>2</th>\n",
       "      <td>39</td>\n",
       "      <td>15</td>\n",
       "      <td>11</td>\n",
       "      <td>94720</td>\n",
       "      <td>1</td>\n",
       "      <td>1.0</td>\n",
       "      <td>1</td>\n",
       "      <td>0</td>\n",
       "      <td>0</td>\n",
       "      <td>0</td>\n",
       "      <td>0</td>\n",
       "      <td>0</td>\n",
       "      <td>0</td>\n",
       "      <td>Berkeley</td>\n",
       "      <td>CA</td>\n",
       "    </tr>\n",
       "    <tr>\n",
       "      <th>3</th>\n",
       "      <td>35</td>\n",
       "      <td>9</td>\n",
       "      <td>100</td>\n",
       "      <td>94112</td>\n",
       "      <td>1</td>\n",
       "      <td>2.7</td>\n",
       "      <td>2</td>\n",
       "      <td>0</td>\n",
       "      <td>0</td>\n",
       "      <td>0</td>\n",
       "      <td>0</td>\n",
       "      <td>0</td>\n",
       "      <td>0</td>\n",
       "      <td>San Francisco</td>\n",
       "      <td>CA</td>\n",
       "    </tr>\n",
       "    <tr>\n",
       "      <th>4</th>\n",
       "      <td>35</td>\n",
       "      <td>8</td>\n",
       "      <td>45</td>\n",
       "      <td>91330</td>\n",
       "      <td>4</td>\n",
       "      <td>1.0</td>\n",
       "      <td>2</td>\n",
       "      <td>0</td>\n",
       "      <td>0</td>\n",
       "      <td>0</td>\n",
       "      <td>0</td>\n",
       "      <td>0</td>\n",
       "      <td>1</td>\n",
       "      <td>Northridge</td>\n",
       "      <td>CA</td>\n",
       "    </tr>\n",
       "    <tr>\n",
       "      <th>5</th>\n",
       "      <td>37</td>\n",
       "      <td>13</td>\n",
       "      <td>29</td>\n",
       "      <td>92121</td>\n",
       "      <td>4</td>\n",
       "      <td>0.4</td>\n",
       "      <td>2</td>\n",
       "      <td>155</td>\n",
       "      <td>0</td>\n",
       "      <td>0</td>\n",
       "      <td>0</td>\n",
       "      <td>1</td>\n",
       "      <td>0</td>\n",
       "      <td>San Diego</td>\n",
       "      <td>CA</td>\n",
       "    </tr>\n",
       "    <tr>\n",
       "      <th>6</th>\n",
       "      <td>53</td>\n",
       "      <td>27</td>\n",
       "      <td>72</td>\n",
       "      <td>91711</td>\n",
       "      <td>2</td>\n",
       "      <td>1.5</td>\n",
       "      <td>2</td>\n",
       "      <td>0</td>\n",
       "      <td>0</td>\n",
       "      <td>0</td>\n",
       "      <td>0</td>\n",
       "      <td>1</td>\n",
       "      <td>0</td>\n",
       "      <td>Claremont</td>\n",
       "      <td>CA</td>\n",
       "    </tr>\n",
       "    <tr>\n",
       "      <th>7</th>\n",
       "      <td>50</td>\n",
       "      <td>24</td>\n",
       "      <td>22</td>\n",
       "      <td>93943</td>\n",
       "      <td>1</td>\n",
       "      <td>0.3</td>\n",
       "      <td>3</td>\n",
       "      <td>0</td>\n",
       "      <td>0</td>\n",
       "      <td>0</td>\n",
       "      <td>0</td>\n",
       "      <td>0</td>\n",
       "      <td>1</td>\n",
       "      <td>Monterey</td>\n",
       "      <td>CA</td>\n",
       "    </tr>\n",
       "    <tr>\n",
       "      <th>8</th>\n",
       "      <td>35</td>\n",
       "      <td>10</td>\n",
       "      <td>81</td>\n",
       "      <td>90089</td>\n",
       "      <td>3</td>\n",
       "      <td>0.6</td>\n",
       "      <td>2</td>\n",
       "      <td>104</td>\n",
       "      <td>0</td>\n",
       "      <td>0</td>\n",
       "      <td>0</td>\n",
       "      <td>1</td>\n",
       "      <td>0</td>\n",
       "      <td>Los Angeles</td>\n",
       "      <td>CA</td>\n",
       "    </tr>\n",
       "    <tr>\n",
       "      <th>9</th>\n",
       "      <td>34</td>\n",
       "      <td>9</td>\n",
       "      <td>180</td>\n",
       "      <td>93023</td>\n",
       "      <td>1</td>\n",
       "      <td>8.9</td>\n",
       "      <td>3</td>\n",
       "      <td>0</td>\n",
       "      <td>1</td>\n",
       "      <td>0</td>\n",
       "      <td>0</td>\n",
       "      <td>0</td>\n",
       "      <td>0</td>\n",
       "      <td>Ojai</td>\n",
       "      <td>CA</td>\n",
       "    </tr>\n",
       "  </tbody>\n",
       "</table>\n",
       "</div>"
      ],
      "text/plain": [
       "   Age  Experience  Income  ZIPCode  Family  CCAvg  Education  Mortgage  \\\n",
       "0   25           1      49    91107       4    1.6          1         0   \n",
       "1   45          19      34    90089       3    1.5          1         0   \n",
       "2   39          15      11    94720       1    1.0          1         0   \n",
       "3   35           9     100    94112       1    2.7          2         0   \n",
       "4   35           8      45    91330       4    1.0          2         0   \n",
       "5   37          13      29    92121       4    0.4          2       155   \n",
       "6   53          27      72    91711       2    1.5          2         0   \n",
       "7   50          24      22    93943       1    0.3          3         0   \n",
       "8   35          10      81    90089       3    0.6          2       104   \n",
       "9   34           9     180    93023       1    8.9          3         0   \n",
       "\n",
       "   Personal_Loan  Securities_Account  CD_Account  Online  CreditCard  \\\n",
       "0              0                   1           0       0           0   \n",
       "1              0                   1           0       0           0   \n",
       "2              0                   0           0       0           0   \n",
       "3              0                   0           0       0           0   \n",
       "4              0                   0           0       0           1   \n",
       "5              0                   0           0       1           0   \n",
       "6              0                   0           0       1           0   \n",
       "7              0                   0           0       0           1   \n",
       "8              0                   0           0       1           0   \n",
       "9              1                   0           0       0           0   \n",
       "\n",
       "            City State  \n",
       "0       Pasadena    CA  \n",
       "1    Los Angeles    CA  \n",
       "2       Berkeley    CA  \n",
       "3  San Francisco    CA  \n",
       "4     Northridge    CA  \n",
       "5      San Diego    CA  \n",
       "6      Claremont    CA  \n",
       "7       Monterey    CA  \n",
       "8    Los Angeles    CA  \n",
       "9           Ojai    CA  "
      ]
     },
     "execution_count": 47,
     "metadata": {},
     "output_type": "execute_result"
    }
   ],
   "source": [
    "# Add new columns, city and state from lists in the dataset\n",
    "loan['City'] = city_list\n",
    "loan['State'] = state_list\n",
    "loan.head(10)"
   ]
  },
  {
   "cell_type": "code",
   "execution_count": 48,
   "metadata": {},
   "outputs": [
    {
     "data": {
      "text/plain": [
       "City\n",
       "False    4966\n",
       "True       34\n",
       "Name: count, dtype: int64"
      ]
     },
     "execution_count": 48,
     "metadata": {},
     "output_type": "execute_result"
    }
   ],
   "source": [
    "# Check if any values in City column is null\n",
    "loan['City'].isnull().value_counts()"
   ]
  },
  {
   "cell_type": "code",
   "execution_count": 49,
   "metadata": {},
   "outputs": [
    {
     "data": {
      "text/plain": [
       "State\n",
       "False    4966\n",
       "True       34\n",
       "Name: count, dtype: int64"
      ]
     },
     "execution_count": 49,
     "metadata": {},
     "output_type": "execute_result"
    }
   ],
   "source": [
    "# Check if any values in State column is null\n",
    "loan['State'].isnull().value_counts()"
   ]
  },
  {
   "cell_type": "code",
   "execution_count": 50,
   "metadata": {},
   "outputs": [
    {
     "data": {
      "text/plain": [
       "ZIPCode\n",
       "92717    22\n",
       "96651     6\n",
       "92634     5\n",
       "93077     1\n",
       "Name: count, dtype: int64"
      ]
     },
     "execution_count": 50,
     "metadata": {},
     "output_type": "execute_result"
    }
   ],
   "source": [
    "# Find out which zipcodes did not get city data from uszip library\n",
    "zip_city_nan = loan[loan['City'].isnull()]\n",
    "zip_city_nan['ZIPCode'].value_counts()"
   ]
  },
  {
   "cell_type": "code",
   "execution_count": 51,
   "metadata": {},
   "outputs": [
    {
     "data": {
      "text/plain": [
       "ZIPCode\n",
       "92717    22\n",
       "96651     6\n",
       "92634     5\n",
       "93077     1\n",
       "Name: count, dtype: int64"
      ]
     },
     "execution_count": 51,
     "metadata": {},
     "output_type": "execute_result"
    }
   ],
   "source": [
    "# Find out which zipcodes did not get state data from uszip library\n",
    "zip_state_nan = loan[loan['State'].isnull()]\n",
    "zip_state_nan['ZIPCode'].value_counts()"
   ]
  },
  {
   "cell_type": "markdown",
   "metadata": {},
   "source": [
    "### Missing values for City and State is for same set of 4 zip codes, most likely uszip library is missing some newer zip codes due to stale data"
   ]
  },
  {
   "cell_type": "code",
   "execution_count": 52,
   "metadata": {},
   "outputs": [
    {
     "data": {
      "text/plain": [
       "Age                   0\n",
       "Experience            0\n",
       "Income                0\n",
       "ZIPCode               0\n",
       "Family                0\n",
       "CCAvg                 0\n",
       "Education             0\n",
       "Mortgage              0\n",
       "Personal_Loan         0\n",
       "Securities_Account    0\n",
       "CD_Account            0\n",
       "Online                0\n",
       "CreditCard            0\n",
       "City                  0\n",
       "State                 0\n",
       "dtype: int64"
      ]
     },
     "execution_count": 52,
     "metadata": {},
     "output_type": "execute_result"
    }
   ],
   "source": [
    "# Google Search missing Zip codes to manually populate City/State Data, 96651 belongs to United States Armed Forces (Naval/Marine)\n",
    "missing_zip_values = {'92717':'Irvine, CA',\n",
    "             '96651':'Naval-Marine, AP',\n",
    "             '92634':'Fullerton, CA',\n",
    "             '93077':'Ventura, CA'\n",
    "            }\n",
    "\n",
    "# Function to fill the missing values into dataset\n",
    "def fill_nan(data, indxs, value, column):\n",
    "    for i in indxs:\n",
    "        data[column].iloc[i]=value\n",
    "        \n",
    "# Loop through missing_zip_values to fill in the missing city and state values    \n",
    "for i in missing_zip_values.keys():\n",
    "    indxs = loan[loan['ZIPCode']==int(i)].index\n",
    "    fill_nan(loan, indxs, missing_zip_values[str(i)].split(',')[0], 'City')\n",
    "    fill_nan(loan, indxs, missing_zip_values[str(i)].split(',')[1], 'State')\n",
    "\n",
    "# Check if City/State null values removed from dataset\n",
    "loan.isnull().sum()"
   ]
  },
  {
   "cell_type": "code",
   "execution_count": 53,
   "metadata": {},
   "outputs": [
    {
     "name": "stdout",
     "output_type": "stream",
     "text": [
      "City\n",
      "Los Angeles      375\n",
      "San Diego        269\n",
      "San Francisco    257\n",
      "Berkeley         241\n",
      "Sacramento       148\n",
      "                ... \n",
      "Sausalito          1\n",
      "Ladera Ranch       1\n",
      "Sierra Madre       1\n",
      "Tahoe City         1\n",
      "Stinson Beach      1\n",
      "Name: count, Length: 245, dtype: int64\n",
      "----------------------------------------\n",
      "State\n",
      "CA    4994\n",
      "AP       6\n",
      "Name: count, dtype: int64\n"
     ]
    }
   ],
   "source": [
    "# Strip any whitespaces from newly populated columns\n",
    "loan['City']=loan['City'].str.strip()\n",
    "loan['State']=loan['State'].str.strip()\n",
    "\n",
    "# Show statistics of City/State\n",
    "print(f'{loan['City'].value_counts()}')\n",
    "print(\"-\" * 40)\n",
    "print(f'{loan['State'].value_counts()}')"
   ]
  },
  {
   "cell_type": "code",
   "execution_count": 54,
   "metadata": {},
   "outputs": [
    {
     "name": "stdout",
     "output_type": "stream",
     "text": [
      "There are total 0 rows with a negative value for Experience\n"
     ]
    },
    {
     "data": {
      "text/plain": [
       "Series([], Name: count, dtype: int64)"
      ]
     },
     "execution_count": 54,
     "metadata": {},
     "output_type": "execute_result"
    }
   ],
   "source": [
    "# Show number of data rows having negative value for Experience Column\n",
    "print(f'There are total {len(loan[loan[\"Experience\"] < 0])} rows with a negative value for Experience')\n",
    "# Checking on experience < 0\n",
    "loan[loan[\"Experience\"] < 0][\"Experience\"].value_counts()"
   ]
  },
  {
   "cell_type": "code",
   "execution_count": 55,
   "metadata": {},
   "outputs": [],
   "source": [
    "# negative values for Experience are likely input errors and we can simply remove -ve sigh from Data \n",
    "loan[\"Experience\"].replace(-1, 1, inplace=True)\n",
    "loan[\"Experience\"].replace(-2, 2, inplace=True)\n",
    "loan[\"Experience\"].replace(-3, 3, inplace=True)"
   ]
  },
  {
   "cell_type": "code",
   "execution_count": 57,
   "metadata": {},
   "outputs": [
    {
     "data": {
      "text/plain": [
       "0"
      ]
     },
     "execution_count": 57,
     "metadata": {},
     "output_type": "execute_result"
    }
   ],
   "source": [
    "# Find out that no more -ve values exists for Experience Column\n",
    "len(loan[loan[\"Experience\"] < 0])"
   ]
  },
  {
   "cell_type": "code",
   "execution_count": 58,
   "metadata": {},
   "outputs": [],
   "source": [
    "# Categorical variables should be converted to data type of categorical variables from numeric.\n",
    "category_columns = [\n",
    "    \"ZIPCode\",\n",
    "    \"Education\",\n",
    "    \"Personal_Loan\",\n",
    "    \"Securities_Account\",\n",
    "    \"CD_Account\",\n",
    "    \"Online\",\n",
    "    \"CreditCard\",\n",
    "    'City',\n",
    "    'State'\n",
    "]\n",
    "loan[category_columns] = loan[category_columns].astype(\"category\")"
   ]
  },
  {
   "cell_type": "code",
   "execution_count": 59,
   "metadata": {},
   "outputs": [
    {
     "name": "stdout",
     "output_type": "stream",
     "text": [
      "<class 'pandas.core.frame.DataFrame'>\n",
      "RangeIndex: 5000 entries, 0 to 4999\n",
      "Data columns (total 15 columns):\n",
      " #   Column              Non-Null Count  Dtype   \n",
      "---  ------              --------------  -----   \n",
      " 0   Age                 5000 non-null   int64   \n",
      " 1   Experience          5000 non-null   int64   \n",
      " 2   Income              5000 non-null   int64   \n",
      " 3   ZIPCode             5000 non-null   category\n",
      " 4   Family              5000 non-null   int64   \n",
      " 5   CCAvg               5000 non-null   float64 \n",
      " 6   Education           5000 non-null   category\n",
      " 7   Mortgage            5000 non-null   int64   \n",
      " 8   Personal_Loan       5000 non-null   category\n",
      " 9   Securities_Account  5000 non-null   category\n",
      " 10  CD_Account          5000 non-null   category\n",
      " 11  Online              5000 non-null   category\n",
      " 12  CreditCard          5000 non-null   category\n",
      " 13  City                5000 non-null   category\n",
      " 14  State               5000 non-null   category\n",
      "dtypes: category(9), float64(1), int64(5)\n",
      "memory usage: 318.9 KB\n"
     ]
    }
   ],
   "source": [
    "# Verify that data types changed properly\n",
    "loan.info()\n"
   ]
  },
  {
   "cell_type": "markdown",
   "metadata": {
    "id": "9KgxRHBOy6fn"
   },
   "source": [
    "## Exploratory Data Analysis."
   ]
  },
  {
   "cell_type": "markdown",
   "metadata": {
    "id": "5w7PtDMazCRh"
   },
   "source": [
    "- EDA is an important part of any project involving data.\n",
    "- It is important to investigate and understand the data better before building a model with it.\n",
    "- A few questions have been mentioned below which will help you approach the analysis in the right manner and generate insights from the data.\n",
    "- A thorough analysis of the data, in addition to the questions mentioned below, should be done."
   ]
  },
  {
   "cell_type": "markdown",
   "metadata": {
    "id": "CjVNBJWozGSA"
   },
   "source": [
    "**Questions**:\n",
    "\n",
    "1. What is the distribution of mortgage attribute? Are there any noticeable patterns or outliers in the distribution?\n",
    "2. How many customers have credit cards?\n",
    "3. What are the attributes that have a strong correlation with the target attribute (personal loan)?\n",
    "4. How does a customer's interest in purchasing a loan vary with their age?\n",
    "5. How does a customer's interest in purchasing a loan vary with their education?"
   ]
  },
  {
   "cell_type": "code",
   "execution_count": null,
   "metadata": {
    "id": "KY7_qg7Cymt2"
   },
   "outputs": [],
   "source": []
  },
  {
   "cell_type": "markdown",
   "metadata": {
    "id": "ZCM6avoA39FB"
   },
   "source": [
    "## Data Preprocessing"
   ]
  },
  {
   "cell_type": "markdown",
   "metadata": {
    "id": "GxmVZXfCfNnc"
   },
   "source": [
    "* Missing value treatment\n",
    "* Feature engineering (if needed)\n",
    "* Outlier detection and treatment (if needed)\n",
    "* Preparing data for modeling\n",
    "* Any other preprocessing steps (if needed)"
   ]
  },
  {
   "cell_type": "code",
   "execution_count": null,
   "metadata": {
    "id": "q6D5tdDiymfd"
   },
   "outputs": [],
   "source": []
  },
  {
   "cell_type": "markdown",
   "metadata": {
    "id": "f4lwYN5bYmHp"
   },
   "source": [
    "## Model Building"
   ]
  },
  {
   "cell_type": "markdown",
   "metadata": {
    "id": "I8KXyX2cYnxg"
   },
   "source": [
    "### Model Evaluation Criterion"
   ]
  },
  {
   "cell_type": "markdown",
   "metadata": {
    "id": "s9-hADbhYrdc"
   },
   "source": [
    "*\n"
   ]
  },
  {
   "cell_type": "markdown",
   "metadata": {
    "id": "n0zOSq9mieSG"
   },
   "source": [
    "### Model Building"
   ]
  },
  {
   "cell_type": "code",
   "execution_count": null,
   "metadata": {
    "id": "N5-9mneBiVE8"
   },
   "outputs": [],
   "source": []
  },
  {
   "cell_type": "markdown",
   "metadata": {
    "id": "tOOFfQIWh3_G"
   },
   "source": [
    "## Model Performance Improvement"
   ]
  },
  {
   "cell_type": "code",
   "execution_count": null,
   "metadata": {
    "id": "D4H3HH5zh4dG"
   },
   "outputs": [],
   "source": []
  },
  {
   "cell_type": "markdown",
   "metadata": {
    "id": "36XMQ7JKjFyx"
   },
   "source": [
    "## Model Performance Comparison and Final Model Selection"
   ]
  },
  {
   "cell_type": "code",
   "execution_count": null,
   "metadata": {
    "id": "jvq640U7kWZF"
   },
   "outputs": [],
   "source": []
  },
  {
   "cell_type": "markdown",
   "metadata": {
    "id": "vb-iuMZQkcDL"
   },
   "source": [
    "## Actionable Insights and Business Recommendations\n"
   ]
  },
  {
   "cell_type": "markdown",
   "metadata": {
    "id": "H_-eZCetiDXK"
   },
   "source": [
    "* What recommedations would you suggest to the bank?"
   ]
  },
  {
   "cell_type": "markdown",
   "metadata": {
    "id": "vX7N2zFwS1nV"
   },
   "source": [
    "___"
   ]
  }
 ],
 "metadata": {
  "colab": {
   "collapsed_sections": [
    "dHp26RRERvXx",
    "CP-77n_lxyBt",
    "D0cilOy9yeK7",
    "vUbDMkrLQb8U",
    "9KgxRHBOy6fn",
    "ZCM6avoA39FB",
    "f4lwYN5bYmHp",
    "I8KXyX2cYnxg",
    "n0zOSq9mieSG",
    "tOOFfQIWh3_G",
    "36XMQ7JKjFyx",
    "vb-iuMZQkcDL"
   ],
   "provenance": []
  },
  "kernelspec": {
   "display_name": "Python 3",
   "language": "python",
   "name": "python3"
  },
  "language_info": {
   "codemirror_mode": {
    "name": "ipython",
    "version": 3
   },
   "file_extension": ".py",
   "mimetype": "text/x-python",
   "name": "python",
   "nbconvert_exporter": "python",
   "pygments_lexer": "ipython3",
   "version": "3.12.0"
  }
 },
 "nbformat": 4,
 "nbformat_minor": 0
}
