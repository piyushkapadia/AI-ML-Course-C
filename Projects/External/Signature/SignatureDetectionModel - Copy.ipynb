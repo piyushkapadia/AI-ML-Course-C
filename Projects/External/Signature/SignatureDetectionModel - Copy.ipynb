{
 "cells": [
  {
   "cell_type": "code",
   "execution_count": 1,
   "metadata": {},
   "outputs": [
    {
     "data": {
      "text/html": [
       "<div>\n",
       "<style scoped>\n",
       "    .dataframe tbody tr th:only-of-type {\n",
       "        vertical-align: middle;\n",
       "    }\n",
       "\n",
       "    .dataframe tbody tr th {\n",
       "        vertical-align: top;\n",
       "    }\n",
       "\n",
       "    .dataframe thead th {\n",
       "        text-align: right;\n",
       "    }\n",
       "</style>\n",
       "<table border=\"1\" class=\"dataframe\">\n",
       "  <thead>\n",
       "    <tr style=\"text-align: right;\">\n",
       "      <th></th>\n",
       "      <th>file</th>\n",
       "      <th>message</th>\n",
       "    </tr>\n",
       "  </thead>\n",
       "  <tbody>\n",
       "    <tr>\n",
       "      <th>0</th>\n",
       "      <td>allen-p/_sent_mail/1.</td>\n",
       "      <td>Message-ID: &lt;18782981.1075855378110.JavaMail.e...</td>\n",
       "    </tr>\n",
       "    <tr>\n",
       "      <th>1</th>\n",
       "      <td>allen-p/_sent_mail/10.</td>\n",
       "      <td>Message-ID: &lt;15464986.1075855378456.JavaMail.e...</td>\n",
       "    </tr>\n",
       "    <tr>\n",
       "      <th>2</th>\n",
       "      <td>allen-p/_sent_mail/100.</td>\n",
       "      <td>Message-ID: &lt;24216240.1075855687451.JavaMail.e...</td>\n",
       "    </tr>\n",
       "    <tr>\n",
       "      <th>3</th>\n",
       "      <td>allen-p/_sent_mail/1000.</td>\n",
       "      <td>Message-ID: &lt;13505866.1075863688222.JavaMail.e...</td>\n",
       "    </tr>\n",
       "    <tr>\n",
       "      <th>4</th>\n",
       "      <td>allen-p/_sent_mail/1001.</td>\n",
       "      <td>Message-ID: &lt;30922949.1075863688243.JavaMail.e...</td>\n",
       "    </tr>\n",
       "  </tbody>\n",
       "</table>\n",
       "</div>"
      ],
      "text/plain": [
       "                       file                                            message\n",
       "0     allen-p/_sent_mail/1.  Message-ID: <18782981.1075855378110.JavaMail.e...\n",
       "1    allen-p/_sent_mail/10.  Message-ID: <15464986.1075855378456.JavaMail.e...\n",
       "2   allen-p/_sent_mail/100.  Message-ID: <24216240.1075855687451.JavaMail.e...\n",
       "3  allen-p/_sent_mail/1000.  Message-ID: <13505866.1075863688222.JavaMail.e...\n",
       "4  allen-p/_sent_mail/1001.  Message-ID: <30922949.1075863688243.JavaMail.e..."
      ]
     },
     "execution_count": 1,
     "metadata": {},
     "output_type": "execute_result"
    }
   ],
   "source": [
    "import pandas as pd\n",
    "\n",
    "# Load the Enron emails dataset\n",
    "enron_emails = pd.read_csv('enron_emails.csv')\n",
    "\n",
    "# Display the first few rows to verify\n",
    "enron_emails.head()"
   ]
  },
  {
   "cell_type": "code",
   "execution_count": null,
   "metadata": {},
   "outputs": [],
   "source": [
    "enron_emails.info()\n",
    "enron_emails.describe()"
   ]
  },
  {
   "cell_type": "code",
   "execution_count": 4,
   "metadata": {},
   "outputs": [
    {
     "data": {
      "text/plain": [
       "\"Message-ID: <18782981.1075855378110.JavaMail.evans@thyme>\\nDate: Mon, 14 May 2001 16:39:00 -0700 (PDT)\\nFrom: phillip.allen@enron.com\\nTo: tim.belden@enron.com\\nSubject: \\nMime-Version: 1.0\\nContent-Type: text/plain; charset=us-ascii\\nContent-Transfer-Encoding: 7bit\\nX-From: Phillip K Allen\\nX-To: Tim Belden <Tim Belden/Enron@EnronXGate>\\nX-cc: \\nX-bcc: \\nX-Folder: \\\\Phillip_Allen_Jan2002_1\\\\Allen, Phillip K.\\\\'Sent Mail\\nX-Origin: Allen-P\\nX-FileName: pallen (Non-Privileged).pst\\n\\nHere is our forecast\\n\\n \""
      ]
     },
     "execution_count": 4,
     "metadata": {},
     "output_type": "execute_result"
    }
   ],
   "source": [
    "enron_emails['message'][0]"
   ]
  },
  {
   "cell_type": "code",
   "execution_count": null,
   "metadata": {},
   "outputs": [],
   "source": [
    "from talon import init\n",
    "init()\n",
    "\n",
    "from talon import signature\n",
    "\n",
    "email_body = \"\"\"\n",
    "Hi Team,\n",
    "\n",
    "Please find the attached report.\n",
    "\n",
    "Best regards,\n",
    "John Doe\n",
    "Senior Analyst\n",
    "john.doe@example.com\n",
    "\"\"\"\n",
    "\n",
    "extracted_signature, _ = signature.extract(email_body, 'john.doe@example.com')\n",
    "print(\"Talon Extracted Signature:\")\n",
    "print(extracted_signature)"
   ]
  },
  {
   "cell_type": "code",
   "execution_count": 4,
   "metadata": {},
   "outputs": [],
   "source": [
    "from transformers import pipeline\n",
    "\n",
    "# Extract sender using a fine-tuned BERT model\n",
    "def extract_sender_bert(email_body):\n",
    "    classifier = pipeline(\"text-classification\", model=\"bert-base-uncased\")\n",
    "    result = classifier(email_body)\n",
    "    return result[0]['label'], None  # Returning a second value"
   ]
  },
  {
   "cell_type": "code",
   "execution_count": 14,
   "metadata": {},
   "outputs": [
    {
     "name": "stderr",
     "output_type": "stream",
     "text": [
      "Some weights of BertForSequenceClassification were not initialized from the model checkpoint at bert-base-uncased and are newly initialized: ['classifier.bias', 'classifier.weight']\n",
      "You should probably TRAIN this model on a down-stream task to be able to use it for predictions and inference.\n",
      "Hardware accelerator e.g. GPU is available in the environment, but no `device` argument is passed to the `Pipeline` object. Model will be on CPU.\n"
     ]
    },
    {
     "name": "stdout",
     "output_type": "stream",
     "text": [
      "Bert Extracted Signature:\n",
      "LABEL_0\n"
     ]
    }
   ],
   "source": [
    "email_body = \"\"\"\n",
    "Hi Team,\n",
    "\n",
    "Please find the attached report.\n",
    "\n",
    "Best regards,\n",
    "John Doe\n",
    "Senior Analyst\n",
    "john.doe@example.com\n",
    "\"\"\"\n",
    "\n",
    "extracted_signature, _ = extract_sender_bert(email_body)\n",
    "print(\"Bert Extracted Signature:\")\n",
    "print(extracted_signature)"
   ]
  },
  {
   "cell_type": "code",
   "execution_count": 11,
   "metadata": {},
   "outputs": [
    {
     "name": "stderr",
     "output_type": "stream",
     "text": [
      "Some weights of the model checkpoint at dslim/bert-base-NER were not used when initializing BertForTokenClassification: ['bert.pooler.dense.bias', 'bert.pooler.dense.weight']\n",
      "- This IS expected if you are initializing BertForTokenClassification from the checkpoint of a model trained on another task or with another architecture (e.g. initializing a BertForSequenceClassification model from a BertForPreTraining model).\n",
      "- This IS NOT expected if you are initializing BertForTokenClassification from the checkpoint of a model that you expect to be exactly identical (initializing a BertForSequenceClassification model from a BertForSequenceClassification model).\n"
     ]
    },
    {
     "name": "stdout",
     "output_type": "stream",
     "text": [
      "Extracted Sender: John Do\n"
     ]
    }
   ],
   "source": [
    "from transformers import pipeline\n",
    "\n",
    "#ner_pipeline = pipeline(\"ner\", model=\"nickmuchi/bert-base-uncased-email-ner\", device=0)  # Use GPU\n",
    "ner_pipeline = pipeline(\"ner\", model=\"dslim/bert-base-NER\", device=0)\n",
    "#ner_pipeline = pipeline(\"ner\", model=\"Jean-Baptiste/camembert-ner\", device=0)\n",
    "\n",
    "def extract_sender(email_body):\n",
    "    result = ner_pipeline(email_body)\n",
    "    sender_name = \" \".join([ent['word'] for ent in result if ent['entity'] == \"B-PER\" or ent['entity'] == \"I-PER\"])\n",
    "    return sender_name if sender_name else \"Unknown Sender\"\n",
    "\n",
    "email_body = \"\"\"\n",
    "Hi Team,\n",
    "\n",
    "Please find the attached report.\n",
    "\n",
    "Best regards,\n",
    "John Doe\n",
    "Senior Analyst\n",
    "john.doe@example.com\n",
    "\"\"\"\n",
    "\n",
    "extracted_sender = extract_sender(email_body)\n",
    "print(\"Extracted Sender:\", extracted_sender)"
   ]
  },
  {
   "cell_type": "code",
   "execution_count": 13,
   "metadata": {},
   "outputs": [
    {
     "name": "stderr",
     "output_type": "stream",
     "text": [
      "Some weights of the model checkpoint at dslim/bert-base-NER were not used when initializing BertForTokenClassification: ['bert.pooler.dense.bias', 'bert.pooler.dense.weight']\n",
      "- This IS expected if you are initializing BertForTokenClassification from the checkpoint of a model trained on another task or with another architecture (e.g. initializing a BertForSequenceClassification model from a BertForPreTraining model).\n",
      "- This IS NOT expected if you are initializing BertForTokenClassification from the checkpoint of a model that you expect to be exactly identical (initializing a BertForSequenceClassification model from a BertForSequenceClassification model).\n"
     ]
    },
    {
     "name": "stdout",
     "output_type": "stream",
     "text": [
      "Extracted Signature Dictionary: {'name': 'John Do', 'title': None, 'email': 'john.doe@example.com'}\n"
     ]
    }
   ],
   "source": [
    "import re\n",
    "from transformers import pipeline\n",
    "\n",
    "# Load NER model\n",
    "ner_pipeline = pipeline(\"ner\", model=\"dslim/bert-base-NER\", aggregation_strategy=\"simple\", device=0)\n",
    "\n",
    "def extract_signature(email_body):\n",
    "    # Step 1: Use NER to extract entities (name, job title)\n",
    "    ner_results = ner_pipeline(email_body)\n",
    "    \n",
    "    # Step 2: Extract PERSON and ORG entities\n",
    "    person_name = []\n",
    "    job_title = []\n",
    "    \n",
    "    for entity in ner_results:\n",
    "        if entity[\"entity_group\"] == \"PER\":\n",
    "            person_name.append(entity[\"word\"])\n",
    "        elif entity[\"entity_group\"] in [\"ORG\", \"MISC\"]:\n",
    "            job_title.append(entity[\"word\"])\n",
    "    \n",
    "    full_name = \" \".join(person_name) if person_name else None\n",
    "    job_title_text = \" \".join(job_title) if job_title else None\n",
    "    \n",
    "    # Step 3: Extract email using regex\n",
    "    email_match = re.search(r\"[a-zA-Z0-9._%+-]+@[a-zA-Z0-9.-]+\\.[a-zA-Z]{2,}\", email_body)\n",
    "    email_address = email_match.group(0) if email_match else None\n",
    "\n",
    "    # Step 4: Return dictionary output\n",
    "    return {\n",
    "        \"name\": full_name,\n",
    "        \"title\": job_title_text,\n",
    "        \"email\": email_address\n",
    "    }\n",
    "\n",
    "# Example email\n",
    "email_body = \"\"\"\n",
    "Hi Team,\n",
    "\n",
    "Please find the attached report.\n",
    "\n",
    "Best regards,\n",
    "John Doe\n",
    "Senior Analyst\n",
    "john.doe@example.com\n",
    "\"\"\"\n",
    "\n",
    "extracted_signature = extract_signature(email_body)\n",
    "print(\"Extracted Signature Dictionary:\", extracted_signature)\n"
   ]
  },
  {
   "cell_type": "code",
   "execution_count": 21,
   "metadata": {},
   "outputs": [
    {
     "name": "stdout",
     "output_type": "stream",
     "text": [
      "0    {'name': 'Phillip K Allen Tim Belden Tim Bel P...\n",
      "1    {'name': 'Phillip K Allen John J Lavorato John...\n",
      "2    {'name': 'Phillip K Allen Leah Van Arsdal Phil...\n",
      "3    {'name': 'Phillip K Allen Randall L Gay Philli...\n",
      "4    {'name': 'Phillip K Allen Greg Piper Phillip A...\n",
      "5    {'name': 'Phillip K Allen Greg Piper Phillip A...\n",
      "6    {'name': 'Phillip K Allen John S Phillip Allen...\n",
      "7    {'name': 'Phillip K Allen Joyce Teixeira Phill...\n",
      "8    {'name': 'Phillip K Allen Mark Scott Phillip A...\n",
      "9    {'name': 'Phillip K Allen Allen Phillip Allen ...\n",
      "Name: signature, dtype: object\n"
     ]
    }
   ],
   "source": [
    "df = enron_emails.copy()\n",
    "\n",
    "# Apply extraction to the first 10 rows\n",
    "df_subset = df.iloc[:10].copy()  # Select first 10 rows\n",
    "df_subset[\"signature\"] = df_subset[\"message\"].apply(extract_signature)\n",
    "\n",
    "# Display the output\n",
    "#print(df_subset[[\"file\", \"signature\"]])\n",
    "#df_subset[\"signature\"]\n",
    "print(df_subset[\"signature\"])"
   ]
  },
  {
   "cell_type": "code",
   "execution_count": 22,
   "metadata": {},
   "outputs": [
    {
     "name": "stdout",
     "output_type": "stream",
     "text": [
      "['phillip.allen@enron.com', 'phillip.allen@enron.com', 'phillip.allen@enron.com', 'phillip.allen@enron.com', 'phillip.allen@enron.com', 'phillip.allen@enron.com', 'phillip.allen@enron.com', 'phillip.allen@enron.com', 'phillip.allen@enron.com', 'phillip.allen@enron.com']\n"
     ]
    }
   ],
   "source": [
    "email_values = [signature.get(\"email\") for signature in df_subset[\"signature\"]]\n",
    "print(email_values)"
   ]
  }
 ],
 "metadata": {
  "kernelspec": {
   "display_name": "Python 3",
   "language": "python",
   "name": "python3"
  },
  "language_info": {
   "codemirror_mode": {
    "name": "ipython",
    "version": 3
   },
   "file_extension": ".py",
   "mimetype": "text/x-python",
   "name": "python",
   "nbconvert_exporter": "python",
   "pygments_lexer": "ipython3",
   "version": "3.12.0"
  }
 },
 "nbformat": 4,
 "nbformat_minor": 2
}
