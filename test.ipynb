{
 "cells": [
  {
   "cell_type": "code",
   "execution_count": 4,
   "metadata": {},
   "outputs": [
    {
     "name": "stdout",
     "output_type": "stream",
     "text": [
      "Requirement already satisfied: imbalanced-learn==0.8.0 in d:\\dev\\tools\\python\\python312\\lib\\site-packages (0.8.0)\n",
      "Requirement already satisfied: numpy>=1.13.3 in d:\\dev\\tools\\python\\python312\\lib\\site-packages (from imbalanced-learn==0.8.0) (1.26.4)\n",
      "Requirement already satisfied: scipy>=0.19.1 in d:\\dev\\tools\\python\\python312\\lib\\site-packages (from imbalanced-learn==0.8.0) (1.14.1)\n",
      "Requirement already satisfied: scikit-learn>=0.24 in d:\\dev\\tools\\python\\python312\\lib\\site-packages (from imbalanced-learn==0.8.0) (1.5.2)\n",
      "Requirement already satisfied: joblib>=0.11 in d:\\dev\\tools\\python\\python312\\lib\\site-packages (from imbalanced-learn==0.8.0) (1.4.2)\n",
      "Requirement already satisfied: threadpoolctl>=3.1.0 in d:\\dev\\tools\\python\\python312\\lib\\site-packages (from scikit-learn>=0.24->imbalanced-learn==0.8.0) (3.5.0)\n",
      "Note: you may need to restart the kernel to use updated packages.\n"
     ]
    },
    {
     "name": "stderr",
     "output_type": "stream",
     "text": [
      "WARNING: Ignoring invalid distribution ~atplotlib (d:\\Dev\\Tools\\Python\\Python312\\Lib\\site-packages)\n",
      "WARNING: Ignoring invalid distribution ~ip (d:\\Dev\\Tools\\Python\\Python312\\Lib\\site-packages)\n",
      "WARNING: Ignoring invalid distribution ~atplotlib (d:\\Dev\\Tools\\Python\\Python312\\Lib\\site-packages)\n",
      "WARNING: Ignoring invalid distribution ~ip (d:\\Dev\\Tools\\Python\\Python312\\Lib\\site-packages)\n",
      "WARNING: Ignoring invalid distribution ~atplotlib (d:\\Dev\\Tools\\Python\\Python312\\Lib\\site-packages)\n",
      "WARNING: Ignoring invalid distribution ~ip (d:\\Dev\\Tools\\Python\\Python312\\Lib\\site-packages)\n"
     ]
    }
   ],
   "source": [
    "pip install imbalanced-learn==0.8.0\n"
   ]
  },
  {
   "cell_type": "code",
   "execution_count": 2,
   "metadata": {},
   "outputs": [
    {
     "name": "stdout",
     "output_type": "stream",
     "text": [
      "Requirement already satisfied: delayed in d:\\dev\\tools\\python\\python312\\lib\\site-packages (1.2.0b2)\n",
      "Requirement already satisfied: hiredis in d:\\dev\\tools\\python\\python312\\lib\\site-packages (from delayed) (3.1.0)\n",
      "Requirement already satisfied: redis in d:\\dev\\tools\\python\\python312\\lib\\site-packages (from delayed) (5.2.1)\n",
      "Requirement already satisfied: msgpack in d:\\dev\\tools\\python\\python312\\lib\\site-packages (from delayed) (1.0.8)\n",
      "Note: you may need to restart the kernel to use updated packages.\n"
     ]
    },
    {
     "name": "stderr",
     "output_type": "stream",
     "text": [
      "WARNING: Ignoring invalid distribution ~atplotlib (d:\\Dev\\Tools\\Python\\Python312\\Lib\\site-packages)\n",
      "WARNING: Ignoring invalid distribution ~ip (d:\\Dev\\Tools\\Python\\Python312\\Lib\\site-packages)\n",
      "WARNING: Ignoring invalid distribution ~atplotlib (d:\\Dev\\Tools\\Python\\Python312\\Lib\\site-packages)\n",
      "WARNING: Ignoring invalid distribution ~ip (d:\\Dev\\Tools\\Python\\Python312\\Lib\\site-packages)\n",
      "WARNING: Ignoring invalid distribution ~atplotlib (d:\\Dev\\Tools\\Python\\Python312\\Lib\\site-packages)\n",
      "WARNING: Ignoring invalid distribution ~ip (d:\\Dev\\Tools\\Python\\Python312\\Lib\\site-packages)\n"
     ]
    }
   ],
   "source": [
    "pip install delayed"
   ]
  },
  {
   "cell_type": "code",
   "execution_count": 4,
   "metadata": {},
   "outputs": [],
   "source": [
    "import numpy as np\n",
    "import pandas as pd\n",
    "import matplotlib.pyplot as plt\n",
    "import seaborn as sns\n",
    "from sklearn.model_selection import train_test_split\n",
    "from sklearn.impute import SimpleImputer\n",
    "from sklearn.ensemble import RandomForestClassifier\n",
    "from sklearn.model_selection import GridSearchCV\n",
    "from sklearn.model_selection import RandomizedSearchCV\n",
    "import sklearn.metrics as metrics"
   ]
  }
 ],
 "metadata": {
  "kernelspec": {
   "display_name": "Python 3",
   "language": "python",
   "name": "python3"
  },
  "language_info": {
   "codemirror_mode": {
    "name": "ipython",
    "version": 3
   },
   "file_extension": ".py",
   "mimetype": "text/x-python",
   "name": "python",
   "nbconvert_exporter": "python",
   "pygments_lexer": "ipython3",
   "version": "3.12.0"
  }
 },
 "nbformat": 4,
 "nbformat_minor": 2
}
