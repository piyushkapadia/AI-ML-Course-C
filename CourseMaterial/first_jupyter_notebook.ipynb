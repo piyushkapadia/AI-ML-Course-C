{
 "cells": [
  {
   "cell_type": "code",
   "execution_count": 3,
   "id": "0fd26b71-3816-42a2-80ad-046ecb39751d",
   "metadata": {},
   "outputs": [
    {
     "name": "stdout",
     "output_type": "stream",
     "text": [
      "hellow World\n"
     ]
    }
   ],
   "source": [
    "print(\"hellow World\")"
   ]
  },
  {
   "cell_type": "code",
   "execution_count": null,
   "id": "c80140c9-4d61-4a51-82ac-03f02cc6084a",
   "metadata": {},
   "outputs": [],
   "source": []
  },
  {
   "cell_type": "code",
   "execution_count": null,
   "id": "dc323bd7-bf4f-48fe-b058-d11d84ffad60",
   "metadata": {},
   "outputs": [],
   "source": []
  }
 ],
 "metadata": {
  "kernelspec": {
   "display_name": "Python 3 (ipykernel)",
   "language": "python",
   "name": "python3"
  },
  "language_info": {
   "codemirror_mode": {
    "name": "ipython",
    "version": 3
   },
   "file_extension": ".py",
   "mimetype": "text/x-python",
   "name": "python",
   "nbconvert_exporter": "python",
   "pygments_lexer": "ipython3",
   "version": "3.12.4"
  }
 },
 "nbformat": 4,
 "nbformat_minor": 5
}
